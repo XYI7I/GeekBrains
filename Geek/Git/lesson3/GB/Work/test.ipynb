{
 "cells": [
  {
   "cell_type": "markdown",
   "id": "81a4d257-24cb-4653-a576-190d455a1b4b",
   "metadata": {},
   "source": [
    "**Задача №1.** Написать программу для копирования массива."
   ]
  },
  {
   "cell_type": "code",
   "execution_count": 1,
   "id": "b9f2e742-475c-4ce9-a937-1d83271063a3",
   "metadata": {},
   "outputs": [],
   "source": [
    "import numpy as np"
   ]
  },
  {
   "cell_type": "code",
   "execution_count": 3,
   "id": "ca686b29-b5b7-4903-9992-98d9eceb85b6",
   "metadata": {},
   "outputs": [
    {
     "data": {
      "text/plain": [
       "array([ 1,  2,  3,  4,  5,  6,  7,  8,  9, 10])"
      ]
     },
     "execution_count": 3,
     "metadata": {},
     "output_type": "execute_result"
    }
   ],
   "source": [
    "a = np.array([1, 2, 3, 4, 5, 6, 7, 8, 9, 10])\n",
    "a"
   ]
  },
  {
   "cell_type": "code",
   "execution_count": 4,
   "id": "942514bc-f35b-4c6a-880b-b97dccd592e9",
   "metadata": {},
   "outputs": [
    {
     "data": {
      "text/plain": [
       "array([ 1,  2,  3,  4,  5,  6,  7,  8,  9, 10])"
      ]
     },
     "execution_count": 4,
     "metadata": {},
     "output_type": "execute_result"
    }
   ],
   "source": [
    "b = a.copy()\n",
    "b"
   ]
  },
  {
   "cell_type": "markdown",
   "id": "7955b3a3-d70e-434e-9edc-60c82408630c",
   "metadata": {},
   "source": [
    "**Задача №2 с элементами математики.** \n",
    "\n",
    "Написать программу для операции \"произведение массивов\". Сама операция определяется так, как будто элементы массива - это коэффициенты полинома. Соответственно, произведение массивов - должно дать новый массив, коэффициенты которого соответсвуют нужному полиному.\n",
    "\n",
    "Например, возьмем полином (x - 1) и полином (x + 2). Их можно представить в виде массивов [-1, 1] и [2, 1] соответственно. Индекс элемента в массиве соответствует степени x при этом коээфициенте, т.е. полином (x - 1) можно переписать как (-1 * $x^0$ + 1 * $x^1$), таким образом соответсвующий этому полиному массив будет иметь вид [-1, 1].\n",
    "\n",
    "По указанному правилу произведение массивов [-1, 1] и [2, 1] должно быть равно [-2, 1, 1], т.к. (x - 1) * (x + 2) = ($x^2$ + $x^1$ - 2)."
   ]
  },
  {
   "cell_type": "code",
   "execution_count": 45,
   "id": "8c2e0bbe-8adf-4b8b-8603-5665c7bf887f",
   "metadata": {},
   "outputs": [
    {
     "name": "stdout",
     "output_type": "stream",
     "text": [
      "[-2, 1, 1]\n"
     ]
    }
   ],
   "source": [
    "A = np.array([-1, 1])\n",
    "B = np.array([2, 1])\n",
    "\n",
    "def Mult_Arr(A, B):\n",
    "    C = [0] * (len(A) + len(B) - 1)\n",
    "    for k in range(len(C)):\n",
    "        for i in range(len(A)):\n",
    "            for j in range(len(B)):\n",
    "                if i + j == k:\n",
    "                    C[k] += A[i]*B[j]\n",
    "    return C\n",
    "\n",
    "\n",
    "\n",
    "C = Mult_Arr(A, B)\n",
    "\n",
    "print(C)"
   ]
  }
 ],
 "metadata": {
  "kernelspec": {
   "display_name": "Python 3",
   "language": "python",
   "name": "python3"
  },
  "language_info": {
   "codemirror_mode": {
    "name": "ipython",
    "version": 3
   },
   "file_extension": ".py",
   "mimetype": "text/x-python",
   "name": "python",
   "nbconvert_exporter": "python",
   "pygments_lexer": "ipython3",
   "version": "3.6.15"
  }
 },
 "nbformat": 4,
 "nbformat_minor": 5
}
